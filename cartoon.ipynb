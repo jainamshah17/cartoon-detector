{
 "cells": [
  {
   "cell_type": "code",
   "execution_count": 1,
   "metadata": {},
   "outputs": [],
   "source": [
    "import os\n",
    "import sys\n",
    "import cv2\n",
    "import time\n",
    "import argparse\n",
    "import numpy as np"
   ]
  },
  {
   "cell_type": "code",
   "execution_count": 2,
   "metadata": {},
   "outputs": [],
   "source": [
    "CLASSES = \"cartoon.names\"\n",
    "CONFIG = \"yolov2.cfg\"\n",
    "WEIGHTS = \"cartoon_yolo.weights\"\n",
    "FILE = \"test.jpg\"\n",
    "CONFIDENCE = 0.5\n",
    "NMS_THRESHOLD = 0.3\n",
    "SCALE = 0.00392\n",
    "MODE = \"image\" "
   ]
  },
  {
   "cell_type": "code",
   "execution_count": 3,
   "metadata": {},
   "outputs": [
    {
     "name": "stdout",
     "output_type": "stream",
     "text": [
      "[INFO] Classes loaded successfully\n"
     ]
    }
   ],
   "source": [
    "classes = None\n",
    "try:\n",
    "    with open(CLASSES, 'r') as f:\n",
    "        classes = [line.strip() for line in f.readlines()]\n",
    "        f.close()\n",
    "    print(\"[INFO] Classes loaded successfully\")\n",
    "except:\n",
    "    sys.exit(\"[ERROR] File Exception Occured\")\n",
    "    \n",
    "COLORS = [\n",
    "    [255, 0, 0],\n",
    "    [0, 255, 0],\n",
    "    [0, 0, 255],\n",
    "    [255, 255, 0],\n",
    "    [0, 255, 255]\n",
    "]"
   ]
  },
  {
   "cell_type": "code",
   "execution_count": 5,
   "metadata": {},
   "outputs": [
    {
     "name": "stdout",
     "output_type": "stream",
     "text": [
      "[INFO] Model Loaded\n"
     ]
    }
   ],
   "source": [
    "net = cv2.dnn.readNet(WEIGHTS, CONFIG)\n",
    "layers_names = net.getLayerNames()\n",
    "output_layers = [layers_names[i[0] - 1] for i in net.getUnconnectedOutLayers()]\n",
    "print(\"[INFO] Model Loaded\")"
   ]
  },
  {
   "cell_type": "code",
   "execution_count": 6,
   "metadata": {},
   "outputs": [],
   "source": [
    "def draw_BBox(image, class_id, confidence, x, y, x_plus_width, y_plus_height):\n",
    "    label = str(classes[class_id]) + \" \" +str(round(confidence * 100, 2)) + \"%\"\n",
    "    color = COLORS[class_id]\n",
    "    cv2.rectangle(image, (x, y), (x_plus_width, y_plus_height), color, 2)\n",
    "    cv2.putText(image, label, (x, y-10), cv2.FONT_HERSHEY_SIMPLEX, 1, color, 2)"
   ]
  },
  {
   "cell_type": "code",
   "execution_count": 9,
   "metadata": {},
   "outputs": [],
   "source": [
    "def process_Image(image, index):\n",
    "\n",
    "    print(\"[INFO] Processing Frame : \", (index+1))\n",
    "\n",
    "    #Retriving dimensions of image\n",
    "    print(\"[INFO] Image Dimension : \", image.shape)\n",
    "    width = image.shape[1]\n",
    "    height = image.shape[0]\n",
    "\n",
    "    #Create Input blob, and set input for network\n",
    "    blob = cv2.dnn.blobFromImage(image, SCALE, (416, 416), (0, 0, 0), True, crop = False)\n",
    "    net.setInput(blob)\n",
    "\n",
    "    #Forward Propogation - inference\n",
    "    outs = net.forward(output_layers)\n",
    "\n",
    "    #Initialization of variables (lists)\n",
    "    class_ids = []\n",
    "    confidences = []\n",
    "    boxes = []\n",
    "\n",
    "    #For each detection from each output layer, get the confidence, class id and BBox params\n",
    "    for out in outs:\n",
    "        for detection in out:\n",
    "            scores = detection[5:]\n",
    "            class_id = np.argmax(scores)\n",
    "            confidence = scores[class_id]\n",
    "            #Thresholding\n",
    "            if confidence > CONFIDENCE:\n",
    "                #Calculating BBox params\n",
    "                c_x = int(detection[0] * width)\n",
    "                c_y = int(detection[1] * height)\n",
    "                w = int(detection[2] * width)\n",
    "                h = int(detection[3] * height)\n",
    "                x = c_x - w / 2\n",
    "                y = c_y - h / 2\n",
    "\n",
    "                class_ids.append(class_id)\n",
    "                confidences.append(float(confidence))\n",
    "                boxes.append([x, y, w, h])\n",
    "\n",
    "    #Applying NMS\n",
    "    indices = cv2.dnn.NMSBoxes(boxes, confidences, CONFIDENCE, NMS_THRESHOLD)\n",
    "\n",
    "    #Draw final BBoxes\n",
    "    for ind in indices:\n",
    "        i = ind[0]\n",
    "        box = boxes[i]\n",
    "        x = box[0]\n",
    "        y = box[1]\n",
    "        w = box[2]\n",
    "        h = box[3]\n",
    "        draw_BBox(image, class_ids[i], confidences[i], round(x), round(y), round(x + w), round(y + h))\n",
    "        print(\"[Prediction] Class : \", classes[class_ids[i]])\n",
    "        print(\"[Prediction] Score : \", round(confidences[i] * 100, 6))\n",
    "    \n",
    "    #Storing Image\n",
    "    if MODE == \"image\":\n",
    "        cv2.imwrite(\"output.jpg\", image)"
   ]
  },
  {
   "cell_type": "code",
   "execution_count": 10,
   "metadata": {},
   "outputs": [
    {
     "name": "stdout",
     "output_type": "stream",
     "text": [
      "[INFO] Processing Frame :  2\n",
      "[INFO] Image Dimension :  (507, 498, 3)\n",
      "[Prediction] Class :  shinchan\n",
      "[Prediction] Score :  91.417855\n",
      "[INFO] Time : 0.24 sec\n"
     ]
    }
   ],
   "source": [
    "start = time.time()\n",
    "#Loading input file and preocessing\n",
    "if MODE == \"image\":\n",
    "    img = cv2.imread(FILE, cv2.IMREAD_COLOR)\n",
    "    process_Image(img, 1)\n",
    "end = time.time()\n",
    "total_time = round(end-start,2)\n",
    "print(\"[INFO] Time : {} sec\" .format(total_time))"
   ]
  }
 ],
 "metadata": {
  "kernelspec": {
   "display_name": "Python 3",
   "language": "python",
   "name": "python3"
  },
  "language_info": {
   "codemirror_mode": {
    "name": "ipython",
    "version": 3
   },
   "file_extension": ".py",
   "mimetype": "text/x-python",
   "name": "python",
   "nbconvert_exporter": "python",
   "pygments_lexer": "ipython3",
   "version": "3.6.10"
  }
 },
 "nbformat": 4,
 "nbformat_minor": 4
}
